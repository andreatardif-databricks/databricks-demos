{
 "cells": [
  {
   "cell_type": "code",
   "execution_count": 0,
   "metadata": {
    "application/vnd.databricks.v1+cell": {
     "cellMetadata": {
      "byteLimit": 10485760,
      "rowLimit": 1000
     },
     "inputWidgets": {},
     "nuid": "9af17a92-17d5-44cd-bfd9-2833c95c6f35",
     "showTitle": false,
     "tableResultSettingsMap": {},
     "title": ""
    }
   },
   "outputs": [],
   "source": [
    "with calc as (SELECT\n",
    "id,\n",
    "origin.pipeline_name,\n",
    "level, \n",
    "maturity_level,\n",
    "details:flow_progress.metrics.executor_time_ms as executor_time_ms,\n",
    "details:flow_progress.metrics.executor_cpu_time_ms as executor_cpu_time_ms\n",
    "FROM\n",
    "  event_log_utilidata\n",
    "WHERE\n",
    "  event_type ='flow_progress')\n",
    "\n",
    "SELECT  \n",
    "id,\n",
    "pipeline_name,\n",
    "level, \n",
    "maturity_level,\n",
    "sum(executor_time_ms),\n",
    "sum(executor_cpu_time_ms)\n",
    "from calc \n",
    "where executor_time_ms is not null and executor_cpu_time_ms is not null\n",
    "group by all;\n"
   ]
  }
 ],
 "metadata": {
  "application/vnd.databricks.v1+notebook": {
   "computePreferences": null,
   "dashboards": [],
   "environmentMetadata": null,
   "inputWidgetPreferences": null,
   "language": "sql",
   "notebookMetadata": {
    "sqlQueryOptions": {
     "applyAutoLimit": true,
     "catalog": "andrea_tardif",
     "schema": "bronze"
    }
   },
   "notebookName": "event_log_query.dbquery.ipynb",
   "widgets": {}
  },
  "language_info": {
   "name": "sql"
  }
 },
 "nbformat": 4,
 "nbformat_minor": 0
}
